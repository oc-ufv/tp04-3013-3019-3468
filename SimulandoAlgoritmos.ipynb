{
  "nbformat": 4,
  "nbformat_minor": 0,
  "metadata": {
    "colab": {
      "name": "Valgrind Simulador de Cache.ipynb",
      "provenance": [],
      "collapsed_sections": []
    },
    "kernelspec": {
      "name": "python3",
      "display_name": "Python 3"
    }
  },
  "cells": [
    {
      "cell_type": "markdown",
      "metadata": {
        "id": "RAQEhS3SxSRw"
      },
      "source": [
        "# Valgrind e  Simulação de Cache: **Cachegrind**\n"
      ]
    },
    {
      "cell_type": "markdown",
      "metadata": {
        "id": "F6dL1CPWLPp6"
      },
      "source": [
        "\n",
        "\n",
        "Este laboratório apresenta o uso da ferramenta cachegrind do ambiente Valgrind, [para maiores informações consulte aqui](https://valgrind.org/docs/manual/cg-manual.html)\n",
        "\n",
        "**Importante**: \n",
        "* A primeira execução do Cachegrind irá fazer a instalação da ferramenta e pode demorar um pouco mais. \n",
        "* Os laboratorios usam uma multiplicação de matrizes como exemplo. O tamanho da matriz cresce com  $O(N^2)$ e o tempo de execução com $O(N^3)$.\n",
        "* Os exemplos estão em C. Mas o Cachegrind trabalha sobre o executável e pode ser usado em qualquer binário. \n",
        "* Fique a vontade para contribuir.\n"
      ]
    },
    {
      "cell_type": "markdown",
      "metadata": {
        "id": "m6xj7BkeMOzf"
      },
      "source": [
        "## Inicialização\n",
        "\n",
        "Primeiro, configurar o laboratório."
      ]
    },
    {
      "cell_type": "code",
      "metadata": {
        "id": "mibTjp3bOJl_",
        "colab": {
          "base_uri": "https://localhost:8080/"
        },
        "outputId": "e1f4ca3b-44ab-4e65-8313-d2b13603b4a2"
      },
      "source": [
        "!pip install git+git://github.com/canesche/nvcc4jupyter.git\n",
        "!git clone https://github.com/canesche/nvcc4jupyter\n",
        "%load_ext nvcc_plugin"
      ],
      "execution_count": 2,
      "outputs": [
        {
          "output_type": "stream",
          "text": [
            "Collecting git+git://github.com/canesche/nvcc4jupyter.git\n",
            "  Cloning git://github.com/canesche/nvcc4jupyter.git to /tmp/pip-req-build-5kgmyys8\n",
            "  Running command git clone -q git://github.com/canesche/nvcc4jupyter.git /tmp/pip-req-build-5kgmyys8\n",
            "Building wheels for collected packages: ColabPlugin\n",
            "  Building wheel for ColabPlugin (setup.py) ... \u001b[?25l\u001b[?25hdone\n",
            "  Created wheel for ColabPlugin: filename=ColabPlugin-blind-cp36-none-any.whl size=12717 sha256=45a50d98c1a6e0ccb24aeed193379cb011052a3be3f6520bc792404cb6f29228\n",
            "  Stored in directory: /tmp/pip-ephem-wheel-cache-8rj_62i7/wheels/87/ae/09/21c6e192181a0472e20ddd1d5212e2cbb113f00ebe14330d0d\n",
            "Successfully built ColabPlugin\n",
            "Installing collected packages: ColabPlugin\n",
            "Successfully installed ColabPlugin-blind\n",
            "Cloning into 'nvcc4jupyter'...\n",
            "remote: Enumerating objects: 362, done.\u001b[K\n",
            "remote: Counting objects: 100% (362/362), done.\u001b[K\n",
            "remote: Compressing objects: 100% (271/271), done.\u001b[K\n",
            "remote: Total 1147 (delta 100), reused 328 (delta 74), pack-reused 785\u001b[K\n",
            "Receiving objects: 100% (1147/1147), 35.71 MiB | 17.60 MiB/s, done.\n",
            "Resolving deltas: 100% (554/554), done.\n"
          ],
          "name": "stdout"
        }
      ]
    },
    {
      "cell_type": "markdown",
      "metadata": {
        "id": "xza4HfVdrd7A"
      },
      "source": [
        "# Specify all cache parameters\n",
        "\n",
        "A extensão **\\%\\%cachegrind** é semelhante a linha de comando, importante que os tamanhos de cache devem ser potência de 2, a linha além de potência de 2 começa com 32 bytes. A ordem dos parametros é tamanho da cache, associatividade e tamanho da linha. Os flags para cache de dados, de instruções e de último nível são **D1**, **I1**, and **LL**, respectivamente."
      ]
    },
    {
      "cell_type": "code",
      "metadata": {
        "id": "Hi9N-yl1PuO9",
        "colab": {
          "base_uri": "https://localhost:8080/"
        },
        "outputId": "eb0bfac4-e8d7-402a-f51c-3fb8ea1c2553"
      },
      "source": [
        "%%cachegrind --D1=32768,8,32 --I1=32768,2,32 --LL=65536,2,32 --file\n",
        "#include <stdio.h>\n",
        "#include <stdlib.h>\n",
        "#define n 1000\n",
        "\n",
        "int main(int argc, char const *argv[]) {\n",
        "  \n",
        "  int i, j;\n",
        "  int x[n][n];\n",
        "  for (i = 0; i < n; i++) {\n",
        "    for (j = 0; j < n; j++) {\n",
        "      x[j][i] = i + j; }\n",
        "  }\n",
        "\n",
        "}"
      ],
      "execution_count": 30,
      "outputs": [
        {
          "output_type": "stream",
          "text": [
            "\n",
            "I1  misses:         3,641\n",
            "LLi misses:         3,470\n",
            "I1  miss rate:       0.02%\n",
            "LLi miss rate:       0.02%\n",
            "\n",
            "D   refs:       8,207,509  (6,774,977 rd   + 1,432,532 wr)\n",
            "D1  misses:       181,897  (   23,358 rd   +   158,539 wr)\n",
            "LLd misses:       173,438  (   20,791 rd   +   152,647 wr)\n",
            "D1  miss rate:        2.2% (      0.3%     +      11.1%  )\n",
            "LLd miss rate:        2.1% (      0.3%     +      10.7%  )\n",
            "\n",
            "LL refs:          185,538  (   26,999 rd   +   158,539 wr)\n",
            "LL misses:        176,908  (   24,261 rd   +   152,647 wr)\n",
            "LL miss rate:         0.7% (      0.1%     +      10.7%  )\n"
          ],
          "name": "stdout"
        }
      ]
    },
    {
      "cell_type": "markdown",
      "metadata": {
        "id": "JThIBQbJncuj"
      },
      "source": [
        "## Atenção aos resultados \n",
        "\n",
        "Valgrind quando simula a cache ele também simula a inicialização do sistema.\n",
        "Portanto, quando for utilizar o valgrind esteja ciente que se o seu código for muito simples será mascarado pela inicialização do sistema."
      ]
    },
    {
      "cell_type": "code",
      "metadata": {
        "colab": {
          "base_uri": "https://localhost:8080/"
        },
        "id": "A7mmbG0An4uq",
        "outputId": "a469c625-b8a1-4669-f745-b1862f0cff57"
      },
      "source": [
        "%%cachegrind --D1=1024,8,32 --I1=32768,2,32 --LL=65536,2,32 --file\n",
        "\n",
        "int main(int argc, char const *argv[]) {\n",
        "  //# empty code\n",
        "}"
      ],
      "execution_count": 29,
      "outputs": [
        {
          "output_type": "stream",
          "text": [
            "\n",
            "I1  misses:        3,635\n",
            "LLi misses:        3,509\n",
            "I1  miss rate:      0.09%\n",
            "LLi miss rate:      0.09%\n",
            "\n",
            "D   refs:      1,203,059  (771,626 rd   + 431,433 wr)\n",
            "D1  misses:      284,855  (219,932 rd   +  64,923 wr)\n",
            "LLd misses:       47,873  ( 21,065 rd   +  26,808 wr)\n",
            "D1  miss rate:      23.7% (   28.5%     +    15.0%  )\n",
            "LLd miss rate:       4.0% (    2.7%     +     6.2%  )\n",
            "\n",
            "LL refs:         288,490  (223,567 rd   +  64,923 wr)\n",
            "LL misses:        51,382  ( 24,574 rd   +  26,808 wr)\n",
            "LL miss rate:        1.0% (    0.5%     +     6.2%  )\n"
          ],
          "name": "stdout"
        }
      ]
    },
    {
      "cell_type": "markdown",
      "metadata": {
        "id": "2i8oSwvFJNK2"
      },
      "source": [
        "### RESULTADOS DOS ALGORITMOS"
      ]
    },
    {
      "cell_type": "code",
      "metadata": {
        "colab": {
          "base_uri": "https://localhost:8080/"
        },
        "id": "Y6a2YVJWI7k0",
        "outputId": "4783455b-73b9-4916-d056-7963faff2829"
      },
      "source": [
        "%%cachegrind --D1=1024,8,32 --I1=32768,2,32 --LL=65536,2,32 --file\n",
        "#include <stdio.h>\n",
        "#include <stdlib.h>\n",
        "#define n 1000\n",
        "\n",
        "int main(int argc, char const *argv[]) {\n",
        "  \n",
        "  int i, j;\n",
        "  int x[n][n];\n",
        "  for (i = 0; i < n; i++) {\n",
        "    for (j = 0; j < n; j++) {\n",
        "      x[j][i] = i + j; }\n",
        "  }\n",
        "\n",
        "}"
      ],
      "execution_count": 31,
      "outputs": [
        {
          "output_type": "stream",
          "text": [
            "\n",
            "I1  misses:         3,641\n",
            "LLi misses:         3,516\n",
            "I1  miss rate:       0.02%\n",
            "LLi miss rate:       0.02%\n",
            "\n",
            "D   refs:       8,207,509  (6,774,977 rd   + 1,432,532 wr)\n",
            "D1  misses:     1,287,382  (  222,590 rd   + 1,064,792 wr)\n",
            "LLd misses:       174,062  (   21,315 rd   +   152,747 wr)\n",
            "D1  miss rate:       15.7% (      3.3%     +      74.3%  )\n",
            "LLd miss rate:        2.1% (      0.3%     +      10.7%  )\n",
            "\n",
            "LL refs:        1,291,023  (  226,231 rd   + 1,064,792 wr)\n",
            "LL misses:        177,578  (   24,831 rd   +   152,747 wr)\n",
            "LL miss rate:         0.7% (      0.1%     +      10.7%  )\n"
          ],
          "name": "stdout"
        }
      ]
    },
    {
      "cell_type": "code",
      "metadata": {
        "colab": {
          "base_uri": "https://localhost:8080/"
        },
        "id": "ktz55mrWJKe1",
        "outputId": "19e12b8c-9d6e-445f-a746-b009cfe401db"
      },
      "source": [
        "%%cachegrind --D1=1024,8,32 --I1=32768,2,32 --LL=65536,2,32 --file\n",
        "#include <stdio.h>\n",
        "#include <stdlib.h>\n",
        "\n",
        "#define n 1000\n",
        "\n",
        "int main(int argc, char const *argv[]) {\n",
        "  int i, j;\n",
        "  int x[n][n];\n",
        "  for (j=0; j<n; j++) {\n",
        "    int *p = x[j];\n",
        "    for (i=0; i<n; i++) {\n",
        "      *p++ = i+j;\n",
        "    }\n",
        "  }\n",
        "}"
      ],
      "execution_count": 33,
      "outputs": [
        {
          "output_type": "stream",
          "text": [
            "\n",
            "I1  misses:         3,642\n",
            "LLi misses:         3,517\n",
            "I1  miss rate:       0.02%\n",
            "LLi miss rate:       0.02%\n",
            "\n",
            "D   refs:       8,209,509  (5,775,977 rd   + 2,433,532 wr)\n",
            "D1  misses:       412,380  (  222,590 rd   +   189,790 wr)\n",
            "LLd misses:       173,012  (   21,315 rd   +   151,697 wr)\n",
            "D1  miss rate:        5.0% (      3.9%     +       7.8%  )\n",
            "LLd miss rate:        2.1% (      0.4%     +       6.2%  )\n",
            "\n",
            "LL refs:          416,022  (  226,232 rd   +   189,790 wr)\n",
            "LL misses:        176,529  (   24,832 rd   +   151,697 wr)\n",
            "LL miss rate:         0.8% (      0.1%     +       6.2%  )\n"
          ],
          "name": "stdout"
        }
      ]
    },
    {
      "cell_type": "markdown",
      "metadata": {
        "id": "Nh0VwsfOMQ2W"
      },
      "source": [
        "### Processando os dados: **Algortimo simples X Algoritmo otimizado**\n",
        "\n",
        "Note que a cache de dados teve maiores valores na matriz otimizada:\n",
        "\n",
        "* Algoritmo simples: 8,207,509\n",
        "* Algortimo otimizado:   8,209,509\n",
        "\n",
        "Contudo as falhas na matriz otimizada foram menores:\n",
        "\n",
        "* Algortimo simples: 15.7%\n",
        "* Algortimo otimizado:   5%\n",
        "\n",
        "Logo, quanto menos falha na cache L1 melhor.\n",
        "\n",
        "Isso comprova que o algoritmo otimizado realmente é melhor, apesar de ambos fazerem a mesma coisa a utilização de ponteiros otimizou muito a aplicação do programa."
      ]
    },
    {
      "cell_type": "markdown",
      "metadata": {
        "id": "0jtIuYs8pM7j"
      },
      "source": [
        "# Variando o tamanho da Cache e visualizando falhas e taxa de falhas\n",
        "\n",
        "A extensão **\\%\\%rangecachegrind** executa várias vezes com tamanhos de cache especificados pela lista **datacache=(4,8,16,32)**, em Kbytes. O usuário especifica a associatividade (**ways**) e o tamanho do linha  (**line**), os gráficos são gerados de forma automática."
      ]
    },
    {
      "cell_type": "code",
      "metadata": {
        "id": "b96CrTPcOk1k",
        "colab": {
          "base_uri": "https://localhost:8080/",
          "height": 312
        },
        "outputId": "45abb8c8-9151-4fef-bd0d-31a6a6a21182"
      },
      "source": [
        "%%rangecachegrind datacache=(1,2,4,8,16); ways=2; line=32; bargraph=(misses)\n",
        "\n",
        "#include <stdio.h>\n",
        "#include <stdlib.h>\n",
        "\n",
        "#define n 1000\n",
        "\n",
        "int main(int argc, char const *argv[]) {\n",
        "  int i, j;\n",
        "  int x[n][n];\n",
        "  for (j=0; j<n; j++) {\n",
        "    int *p = x[j];\n",
        "    for (i=0; i<n; i++) {\n",
        "      *p++ = i+j;\n",
        "    }\n",
        "  }\n",
        "}"
      ],
      "execution_count": 34,
      "outputs": [
        {
          "output_type": "stream",
          "text": [
            "\n"
          ],
          "name": "stdout"
        },
        {
          "output_type": "display_data",
          "data": {
            "image/png": "[encoded data removed]",
            "text/plain": [
              "<Figure size 432x288 with 1 Axes>"
            ]
          },
          "metadata": {
            "tags": [],
            "needs_background": "light"
          }
        }
      ]
    },
    {
      "cell_type": "markdown",
      "metadata": {
        "id": "iOJHvvB8QVNi"
      },
      "source": [
        "# Tarefa\n",
        "\n",
        "Variando os valores da cache de dados, ways e a lines (Utilize criatividade para mostrar )"
      ]
    },
    {
      "cell_type": "code",
      "metadata": {
        "id": "kzoHkecaQVpY",
        "colab": {
          "base_uri": "https://localhost:8080/",
          "height": 312
        },
        "outputId": "e1007dd2-bd68-4e37-cf37-e6ee9dc4295d"
      },
      "source": [
        "%%rangecachegrind datacache=(1,2,4,8,16); ways=4; line=64; bargraph=(misses)\n",
        "\n",
        "#include <stdio.h>\n",
        "#include <stdlib.h>\n",
        "\n",
        "#define n 1000\n",
        "\n",
        "int main(int argc, char const *argv[]) {\n",
        "  int i, j;\n",
        "  int x[n][n];\n",
        "  for (j=0; j<n; j++) {\n",
        "    int *p = x[j];\n",
        "    for (i=0; i<n; i++) {\n",
        "      *p++ = i+j;\n",
        "    }\n",
        "  }\n",
        "}"
      ],
      "execution_count": 36,
      "outputs": [
        {
          "output_type": "stream",
          "text": [
            "\n"
          ],
          "name": "stdout"
        },
        {
          "output_type": "display_data",
          "data": {
            "image/png": "[encoded data removed]",
            "text/plain": [
              "<Figure size 432x288 with 1 Axes>"
            ]
          },
          "metadata": {
            "tags": [],
            "needs_background": "light"
          }
        }
      ]
    },
    {
      "cell_type": "code",
      "metadata": {
        "id": "SoBjlnENkf0c",
        "outputId": "a2e88daf-ed38-43fa-c4fb-4831a452db67",
        "colab": {
          "base_uri": "https://localhost:8080/",
          "height": 312
        }
      },
      "source": [
        "%%rangecachegrind datacache=(1,2,4,8,16); ways=8; line=128; bargraph=(misses)\n",
        "\n",
        "#include <stdio.h>\n",
        "#include <stdlib.h>\n",
        "\n",
        "#define n 1000\n",
        "\n",
        "int main(int argc, char const *argv[]) {\n",
        "  int i, j;\n",
        "  int x[n][n];\n",
        "  for (j=0; j<n; j++) {\n",
        "    int *p = x[j];\n",
        "    for (i=0; i<n; i++) {\n",
        "      *p++ = i+j;\n",
        "    }\n",
        "  }\n",
        "}"
      ],
      "execution_count": 38,
      "outputs": [
        {
          "output_type": "stream",
          "text": [
            "\n"
          ],
          "name": "stdout"
        },
        {
          "output_type": "display_data",
          "data": {
            "image/png": "[encoded data removed]",
            "text/plain": [
              "<Figure size 432x288 with 1 Axes>"
            ]
          },
          "metadata": {
            "tags": [],
            "needs_background": "light"
          }
        }
      ]
    },
    {
      "cell_type": "markdown",
      "metadata": {
        "id": "8LfSDbzjOJdG"
      },
      "source": [
        "# Explicação dos resultados"
      ]
    },
    {
      "cell_type": "markdown",
      "metadata": {
        "id": "YbnXtb-DOQC_"
      },
      "source": [
        "Como podemos ver nos gráficos acima observamos que conforme aumentamos os valores **ways** e **line** a quantidade de misses diminui, o que faz sentido levando em consideração a matéria que aprendemos na disciplina "
      ]
    },
    {
      "cell_type": "code",
      "metadata": {
        "id": "ne_DODPplmRr"
      },
      "source": [
        ""
      ],
      "execution_count": null,
      "outputs": []
    }
  ]
}